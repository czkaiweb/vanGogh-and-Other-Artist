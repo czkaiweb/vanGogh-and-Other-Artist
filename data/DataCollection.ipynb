{
 "cells": [
  {
   "cell_type": "markdown",
   "id": "f88289ff",
   "metadata": {},
   "source": [
    "## Collecting paints for van Gogh and various artists\n",
    "This notebook is designed for collecting artworks by various artist and producing the meta info"
   ]
  },
  {
   "cell_type": "code",
   "execution_count": 1,
   "id": "807f2cb2",
   "metadata": {},
   "outputs": [],
   "source": [
    "import shutil\n",
    "import os\n",
    "import glob\n",
    "import pandas as pd\n",
    "import numpy\n",
    "from tqdm import tqdm\n",
    "import hashlib\n",
    "#import wget\n",
    "#from  download import *"
   ]
  },
  {
   "cell_type": "code",
   "execution_count": 2,
   "id": "128f4d31",
   "metadata": {},
   "outputs": [
    {
     "name": "stdout",
     "output_type": "stream",
     "text": [
      "total 40\r\n",
      "drwxr-xr-x  3 czkaiweb  staff    96 May 14 16:44 \u001b[34m.ipynb_checkpoints\u001b[m\u001b[m\r\n",
      "drwxr-xr-x  8 czkaiweb  staff   256 May 15 15:55 \u001b[34m..\u001b[m\u001b[m\r\n",
      "-rw-r--r--  1 czkaiweb  staff  2064 May 16 14:54 download.py\r\n",
      "drwxr-xr-x  3 czkaiweb  staff    96 May 16 15:30 \u001b[34m__pycache__\u001b[m\u001b[m\r\n",
      "drwxr-xr-x  6 czkaiweb  staff   192 May 17 21:34 \u001b[34msubWikiArts\u001b[m\u001b[m\r\n",
      "-rw-r--r--@ 1 czkaiweb  staff  6148 May 18 19:26 .DS_Store\r\n",
      "-rw-r--r--  1 czkaiweb  staff  6499 May 18 21:01 DataCollection.ipynb\r\n",
      "drwxr-xr-x  8 czkaiweb  staff   256 May 18 21:01 \u001b[34m.\u001b[m\u001b[m\r\n"
     ]
    }
   ],
   "source": [
    "!ls -alrt"
   ]
  },
  {
   "cell_type": "code",
   "execution_count": 3,
   "id": "ff0b5b8b",
   "metadata": {},
   "outputs": [],
   "source": [
    "# Create Meta record\n",
    "fileList = []\n",
    "img_path = \"./imgs\"\n",
    "\n",
    "if not os.path.isdir(img_path):\n",
    "    os.mkdir(img_path)\n"
   ]
  },
  {
   "cell_type": "code",
   "execution_count": 4,
   "id": "f1ab81b8",
   "metadata": {},
   "outputs": [
    {
     "name": "stdout",
     "output_type": "stream",
     "text": [
      "Downloading van-gogh-paintings.zip to /Users/czkaiweb/Research/ErdosBootCamp/May2022/vanGogh-and-Other-Artist/data\n",
      "100%|███████████████████████████████████████▊| 483M/485M [00:15<00:00, 45.1MB/s]\n",
      "100%|████████████████████████████████████████| 485M/485M [00:15<00:00, 33.5MB/s]\n"
     ]
    },
    {
     "name": "stderr",
     "output_type": "stream",
     "text": [
      "100%|██████████| 2024/2024 [00:00<00:00, 4433.10it/s]\n"
     ]
    }
   ],
   "source": [
    "# Download van Gogh dataset\n",
    "!kaggle datasets download -d ipythonx/van-gogh-paintings\n",
    "\n",
    "# List all von Goph plots\n",
    "tmp_path = \"./tmp\"\n",
    "vangoghZip = 'van-gogh-paintings.zip'\n",
    "try:\n",
    "    shutil.unpack_archive(vangoghZip,tmp_path)\n",
    "except Exception as err:\n",
    "    print(err)\n",
    "\n",
    "allVanGogh = glob.glob(tmp_path+'/*/*.jpg')\n",
    "\n",
    "# Append metadata\n",
    "for index in tqdm(range(len(allVanGogh))):\n",
    "    fileName = allVanGogh[index]\n",
    "    file = fileName.split(\"/\")[-1]\n",
    "    hashName = hashlib.md5(file.encode()).hexdigest()\n",
    "    shutil.move(fileName, img_path + \"/\" + hashName + \".jpg\", copy_function = shutil.copy2)\n",
    "    artist = \"vanGogh\"\n",
    "    fileList.append([hashName,artist])\n",
    "    \n",
    "# Clean tmp data\n",
    "try:\n",
    "    shutil.rmtree(tmp_path)\n",
    "    os.remove(vangoghZip)\n",
    "except Exception as err:\n",
    "    print(err)"
   ]
  },
  {
   "cell_type": "code",
   "execution_count": 5,
   "id": "68a66ca4",
   "metadata": {},
   "outputs": [
    {
     "name": "stdout",
     "output_type": "stream",
     "text": [
      "Downloading monet2photo.zip to /Users/czkaiweb/Research/ErdosBootCamp/May2022/vanGogh-and-Other-Artist/data\n",
      "100%|████████████████████████████████████████| 263M/263M [00:07<00:00, 21.6MB/s]\n",
      "100%|████████████████████████████████████████| 263M/263M [00:07<00:00, 37.5MB/s]\n"
     ]
    },
    {
     "name": "stderr",
     "output_type": "stream",
     "text": [
      "100%|██████████| 1072/1072 [00:00<00:00, 7713.07it/s]\n"
     ]
    }
   ],
   "source": [
    "# Download Monet dataset: https://www.kaggle.com/datasets/srrrrr/monet2photo\n",
    "!kaggle datasets download -d srrrrr/monet2photo\n",
    "\n",
    "# List all Monet plots\n",
    "tmp_path = \"./tmp\"\n",
    "monetZip = 'monet2photo.zip'\n",
    "try:\n",
    "    shutil.unpack_archive(monetZip,tmp_path)\n",
    "except Exception as err:\n",
    "    print(err)\n",
    "\n",
    "allMonet = glob.glob(tmp_path+'/*/trainA/*.jpg')\n",
    "\n",
    "# Append metadata\n",
    "for index in tqdm(range(len(allMonet))):\n",
    "    fileName = allMonet[index]\n",
    "    file = fileName.split(\"/\")[-1]\n",
    "    hashName = hashlib.md5(file.encode()).hexdigest()\n",
    "    shutil.move(fileName, img_path + \"/\" + hashName + \".jpg\", copy_function = shutil.copy2)\n",
    "    artist = \"Monet\"\n",
    "    fileList.append([hashName,artist])\n",
    "    \n",
    "# Clean tmp data\n",
    "try:\n",
    "    shutil.rmtree(tmp_path)\n",
    "    os.remove(monetZip)\n",
    "except Exception as err:\n",
    "    print(err)"
   ]
  },
  {
   "cell_type": "code",
   "execution_count": 9,
   "id": "b4abc4b5",
   "metadata": {},
   "outputs": [
    {
     "name": "stdout",
     "output_type": "stream",
     "text": [
      "Downloading subwikiarts.zip to /Users/czkaiweb/Research/ErdosBootCamp/May2022/vanGogh-and-Other-Artist/data\n",
      "100%|███████████████████████████████████████▉| 993M/995M [00:49<00:00, 38.1MB/s]\n",
      "100%|████████████████████████████████████████| 995M/995M [00:49<00:00, 21.2MB/s]\n"
     ]
    }
   ],
   "source": [
    "# Download WikiArts dataset: https://www.kaggle.com/datasets/antoinegruson/-wikiart-all-images-120k-link\n",
    "!kaggle datasets download -d czkaiweb/subwikiarts\n",
    "\n",
    "# List all wikiarts plots\n",
    "tmp_path = \"./tmp\"\n",
    "wikiartsZip = 'subwikiarts.zip'\n",
    "try:\n",
    "    shutil.unpack_archive(wikiartsZip,tmp_path)\n",
    "except Exception as err:\n",
    "    print(err)\n",
    "\n",
    "WikiArtsMeta = tmp_path+\"/WikiArts.csv\"\n",
    "WikiArtsDF = pd.read_csv(WikiArtsMeta)\n",
    "WikiArtsList = WikiArtsDF[[\"hash\",\"Artist\"]].values\n",
    "\n",
    "def findGroup(head):\n",
    "    if head <= \"33\":\n",
    "        return \"/GroupA/\"\n",
    "    elif head <= \"69\":\n",
    "        return \"/GroupB/\"\n",
    "    elif head <= \"9d\":\n",
    "        return \"/GroupC/\"\n",
    "    elif head <= \"cc\":\n",
    "        return \"/GroupD/\"\n",
    "    else:\n",
    "        return \"/GroupE/\"\n",
    "    \n",
    "# Set to true for group splitting\n",
    "preClean = False\n",
    "if preClean == True:\n",
    "    for char in [\"A\",\"B\",\"C\",\"D\",\"E\"]:\n",
    "        groupDir = img_path+\"/Group{}\".format(char)\n",
    "        if not os.path.isdir(groupDir):\n",
    "            os.mkdir(groupDir)\n",
    "\n",
    "for record in WikiArtsList:\n",
    "    groupDir = \"/./\"\n",
    "    if preClean:\n",
    "        groupDir = findGroup(record[0][:2])\n",
    "    fileName = tmp_path+\"/imgs/\"+record[0]+\".jpg\"\n",
    "    shutil.move(fileName, img_path+ groupDir + \"/\" , copy_function = shutil.copy2)\n",
    "    \n",
    "# Clean tmp data\n",
    "try:\n",
    "    shutil.rmtree(tmp_path)\n",
    "    os.remove(wikiartsZip)\n",
    "except Exception as err:\n",
    "    print(err)\n"
   ]
  },
  {
   "cell_type": "code",
   "execution_count": 10,
   "id": "4d00bd8f",
   "metadata": {},
   "outputs": [],
   "source": [
    "# Save to meta file\n",
    "metaDF = pd.DataFrame(fileList,columns = [\"hash\",\"Artist\"])\n",
    "metaDF = pd.concat([metaDF,WikiArtsDF[[\"hash\",\"Artist\"]]])\n",
    "metaDF.to_csv(\"meta.csv\")"
   ]
  },
  {
   "cell_type": "code",
   "execution_count": null,
   "id": "03e4f83c",
   "metadata": {},
   "outputs": [],
   "source": []
  },
  {
   "cell_type": "code",
   "execution_count": null,
   "id": "a10688c6",
   "metadata": {},
   "outputs": [],
   "source": []
  }
 ],
 "metadata": {
  "kernelspec": {
   "display_name": "Python 3.7.10 64-bit ('Erdos': conda)",
   "language": "python",
   "name": "python371064biterdosconda7530abd590984c45ba6372cad090cba4"
  },
  "language_info": {
   "codemirror_mode": {
    "name": "ipython",
    "version": 3
   },
   "file_extension": ".py",
   "mimetype": "text/x-python",
   "name": "python",
   "nbconvert_exporter": "python",
   "pygments_lexer": "ipython3",
   "version": "3.7.10"
  }
 },
 "nbformat": 4,
 "nbformat_minor": 5
}
