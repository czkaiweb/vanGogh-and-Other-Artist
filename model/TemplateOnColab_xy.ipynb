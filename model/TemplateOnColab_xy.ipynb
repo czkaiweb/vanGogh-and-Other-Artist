{
  "cells": [
    {
      "cell_type": "markdown",
      "metadata": {
        "id": "EgIOtxM-QcLr"
      },
      "source": [
        "## Van Gogh and other artist\n",
        "This notebook is dedicated for running generic pipeline on Colab, kaggle token is required for dataset download."
      ]
    },
    {
      "cell_type": "markdown",
      "metadata": {
        "id": "X3588jMxQz8P"
      },
      "source": [
        "1. Clone the repository to your colab area:"
      ]
    },
    {
      "cell_type": "code",
      "execution_count": null,
      "metadata": {
        "colab": {
          "base_uri": "https://localhost:8080/"
        },
        "id": "xsCgcXl6fjph",
        "outputId": "acaa9ac1-e9fd-45da-c44e-4816a0979541"
      },
      "outputs": [
        {
          "output_type": "stream",
          "name": "stdout",
          "text": [
            "Cloning into 'vanGogh-and-Other-Artist'...\n",
            "remote: Enumerating objects: 84, done.\u001b[K\n",
            "remote: Counting objects: 100% (84/84), done.\u001b[K\n",
            "remote: Compressing objects: 100% (59/59), done.\u001b[K\n",
            "remote: Total 84 (delta 37), reused 62 (delta 21), pack-reused 0\u001b[K\n",
            "Unpacking objects: 100% (84/84), done.\n",
            "/content/vanGogh-and-Other-Artist\n",
            "Already up to date.\n",
            "/content\n"
          ]
        }
      ],
      "source": [
        "!git clone https://github.com/czkaiweb/vanGogh-and-Other-Artist.git\n",
        "\n",
        "# To fetch the change from git repo\n",
        "%cd /content/vanGogh-and-Other-Artist\n",
        "!git fetch \n",
        "!git pull\n",
        "#!git checkout develop\n",
        "%cd /content\n",
        "\n"
      ]
    },
    {
      "cell_type": "markdown",
      "metadata": {
        "id": "XX7GoO1wQ8Dx"
      },
      "source": [
        "2. Import the files and needed packages:"
      ]
    },
    {
      "cell_type": "code",
      "execution_count": null,
      "metadata": {
        "id": "d7ayire6f7mx"
      },
      "outputs": [],
      "source": [
        "import sys\n",
        "sys.path.append('/content/vanGogh-and-Other-Artist')\n",
        "sys.path.append('/content/vanGogh-and-Other-Artist/preprocessing')\n",
        "sys.path.append('/content/vanGogh-and-Other-Artist/model')\n",
        "from genericCNN import *\n",
        "from preprocessing.ImageTranform import *\n",
        "from torchsummary import summary\n",
        "\n",
        "import shutil\n",
        "import os\n",
        "import glob\n",
        "import pandas as pd\n",
        "import numpy\n",
        "from tqdm import tqdm\n",
        "import hashlib\n",
        "\n",
        "from torchvision import datasets, models, transforms\n",
        "import torch.nn as nn\n",
        "import torch.optim as optim\n",
        "from torch.optim import lr_scheduler\n",
        "\n",
        "%load_ext autoreload\n",
        "%autoreload 2"
      ]
    },
    {
      "cell_type": "markdown",
      "metadata": {
        "id": "avn1vIupRUVr"
      },
      "source": [
        "3.Create image output folder:"
      ]
    },
    {
      "cell_type": "code",
      "execution_count": null,
      "metadata": {
        "id": "cBhWWC_KgEQv"
      },
      "outputs": [],
      "source": [
        "# Create Meta record\n",
        "fileList = []\n",
        "img_path = \"./imgs\"\n",
        "\n",
        "if not os.path.isdir(img_path):\n",
        "    os.mkdir(img_path)"
      ]
    },
    {
      "cell_type": "markdown",
      "metadata": {
        "id": "og1ei-hNRiTK"
      },
      "source": [
        "4. Setup Kaggle token file:"
      ]
    },
    {
      "cell_type": "code",
      "execution_count": null,
      "metadata": {
        "id": "8hIrcAHyRtMk"
      },
      "outputs": [],
      "source": [
        "kaggle_path = \"/root/.kaggle\"\n",
        "if not os.path.isdir(kaggle_path):\n",
        "  os.mkdir(kaggle_path)\n"
      ]
    },
    {
      "cell_type": "markdown",
      "metadata": {
        "id": "F1axlj5XSCNI"
      },
      "source": [
        "5. In the left column, click \"File\", go to parent folder, check if  /root/.kaggle is existed. Upload your kaggle token file (usually it is named kaggle.json) there.\n",
        "Using \"chmod\" to set proper authentication to protect your token"
      ]
    },
    {
      "cell_type": "code",
      "source": [
        "mv /root/kaggle.json /root/.kaggle/"
      ],
      "metadata": {
        "id": "DjLWl1WDzqfc"
      },
      "execution_count": null,
      "outputs": []
    },
    {
      "cell_type": "code",
      "execution_count": null,
      "metadata": {
        "id": "aIvWNui5Sm62"
      },
      "outputs": [],
      "source": [
        "!chmod 600 /root/.kaggle/kaggle.json"
      ]
    },
    {
      "cell_type": "markdown",
      "metadata": {
        "id": "Qshqp9_0Tn6r"
      },
      "source": [
        "6. Download the van gogh dataset, unzip the dataset and append the meta data:"
      ]
    },
    {
      "cell_type": "code",
      "execution_count": null,
      "metadata": {
        "colab": {
          "base_uri": "https://localhost:8080/"
        },
        "id": "OGCJK5WYgome",
        "outputId": "88161048-23ef-4230-d0a7-36f1e4795d4f"
      },
      "outputs": [
        {
          "output_type": "stream",
          "name": "stdout",
          "text": [
            "Downloading van-gogh-paintings.zip to /content\n",
            " 95% 461M/485M [00:04<00:00, 150MB/s]\n",
            "100% 485M/485M [00:04<00:00, 118MB/s]\n"
          ]
        },
        {
          "output_type": "stream",
          "name": "stderr",
          "text": [
            "100%|██████████| 2024/2024 [00:00<00:00, 20622.85it/s]\n"
          ]
        }
      ],
      "source": [
        "# Download van Gogh dataset\n",
        "!kaggle datasets download -d ipythonx/van-gogh-paintings\n",
        "\n",
        "# List all von Goph plots\n",
        "tmp_path = \"./tmp\"\n",
        "vangoghZip = 'van-gogh-paintings.zip'\n",
        "try:\n",
        "    shutil.unpack_archive(vangoghZip,tmp_path)\n",
        "except Exception as err:\n",
        "    print(err)\n",
        "\n",
        "allVanGogh = glob.glob(tmp_path+'/*/*.jpg')\n",
        "\n",
        "# Append metadata\n",
        "for index in tqdm(range(len(allVanGogh))):\n",
        "    fileName = allVanGogh[index]\n",
        "    file = fileName.split(\"/\")[-1]\n",
        "    hashName = hashlib.md5(file.encode()).hexdigest()\n",
        "    shutil.move(fileName, img_path + \"/\" + hashName + \".jpg\", copy_function = shutil.copy2)\n",
        "    artist = \"vanGogh\"\n",
        "    fileList.append([hashName,artist])\n",
        "    \n",
        "# Clean tmp data\n",
        "try:\n",
        "    shutil.rmtree(tmp_path)\n",
        "    os.remove(vangoghZip)\n",
        "except Exception as err:\n",
        "    print(err)"
      ]
    },
    {
      "cell_type": "markdown",
      "metadata": {
        "id": "NHIvm5sMTykj"
      },
      "source": [
        "7. Download the monet dataset, unzip the dataset and append the meta data:"
      ]
    },
    {
      "cell_type": "code",
      "execution_count": null,
      "metadata": {
        "colab": {
          "base_uri": "https://localhost:8080/"
        },
        "id": "wN-3LZkTg2NE",
        "outputId": "57cbef7e-e025-49a5-b4ce-f122bf99df91"
      },
      "outputs": [
        {
          "output_type": "stream",
          "name": "stdout",
          "text": [
            "Downloading monet2photo.zip to /content\n",
            " 92% 242M/263M [00:01<00:00, 209MB/s]\n",
            "100% 263M/263M [00:01<00:00, 183MB/s]\n"
          ]
        },
        {
          "output_type": "stream",
          "name": "stderr",
          "text": [
            "100%|██████████| 1072/1072 [00:00<00:00, 37053.19it/s]\n"
          ]
        }
      ],
      "source": [
        "!kaggle datasets download -d srrrrr/monet2photo\n",
        "\n",
        "# List all Monet plots\n",
        "tmp_path = \"./tmp\"\n",
        "monetZip = 'monet2photo.zip'\n",
        "try:\n",
        "    shutil.unpack_archive(monetZip,tmp_path)\n",
        "except Exception as err:\n",
        "    print(err)\n",
        "\n",
        "allMonet = glob.glob(tmp_path+'/*/trainA/*.jpg')\n",
        "\n",
        "# Append metadata\n",
        "for index in tqdm(range(len(allMonet))):\n",
        "    fileName = allMonet[index]\n",
        "    file = fileName.split(\"/\")[-1]\n",
        "    hashName = hashlib.md5(file.encode()).hexdigest()\n",
        "    shutil.move(fileName, img_path + \"/\" + hashName + \".jpg\", copy_function = shutil.copy2)\n",
        "    artist = \"Monet\"\n",
        "    fileList.append([hashName,artist])\n",
        "    \n",
        "# Clean tmp data\n",
        "try:\n",
        "    shutil.rmtree(tmp_path)\n",
        "    os.remove(monetZip)\n",
        "except Exception as err:\n",
        "    print(err)"
      ]
    },
    {
      "cell_type": "markdown",
      "metadata": {
        "id": "eWlTGizgT2cv"
      },
      "source": [
        "8. Download the customized dataset, unzip the dataset and append the meta data:"
      ]
    },
    {
      "cell_type": "code",
      "execution_count": null,
      "metadata": {
        "colab": {
          "base_uri": "https://localhost:8080/"
        },
        "id": "szespjoEiVzx",
        "outputId": "bac2702c-1cf4-435c-d30a-4aa2838702ac"
      },
      "outputs": [
        {
          "output_type": "stream",
          "name": "stdout",
          "text": [
            "Downloading subwikiarts.zip to /content\n",
            " 99% 985M/995M [00:06<00:00, 191MB/s]\n",
            "100% 995M/995M [00:06<00:00, 149MB/s]\n"
          ]
        }
      ],
      "source": [
        "# Download WikiArts dataset: https://www.kaggle.com/datasets/antoinegruson/-wikiart-all-images-120k-link\n",
        "!kaggle datasets download -d czkaiweb/subwikiarts\n",
        "\n",
        "# List all wikiarts plots\n",
        "tmp_path = \"./tmp\"\n",
        "wikiartsZip = 'subwikiarts.zip'\n",
        "try:\n",
        "    shutil.unpack_archive(wikiartsZip,tmp_path)\n",
        "except Exception as err:\n",
        "    print(err)\n",
        "\n",
        "WikiArtsMeta = tmp_path+\"/WikiArts.csv\"\n",
        "WikiArtsDF = pd.read_csv(WikiArtsMeta)\n",
        "WikiArtsList = WikiArtsDF[[\"hash\",\"Artist\"]].values\n",
        "\n",
        "def findGroup(head):\n",
        "    if head <= \"33\":\n",
        "        return \"/GroupA/\"\n",
        "    elif head <= \"69\":\n",
        "        return \"/GroupB/\"\n",
        "    elif head <= \"9d\":\n",
        "        return \"/GroupC/\"\n",
        "    elif head <= \"cc\":\n",
        "        return \"/GroupD/\"\n",
        "    else:\n",
        "        return \"/GroupE/\"\n",
        "    \n",
        "# Set to true for group splitting\n",
        "preClean = False\n",
        "if preClean == True:\n",
        "    for char in [\"A\",\"B\",\"C\",\"D\",\"E\"]:\n",
        "        groupDir = img_path+\"/Group{}\".format(char)\n",
        "        if not os.path.isdir(groupDir):\n",
        "            os.mkdir(groupDir)\n",
        "\n",
        "for record in WikiArtsList:\n",
        "    groupDir = \"/./\"\n",
        "    if preClean:\n",
        "        groupDir = findGroup(record[0][:2])\n",
        "    fileName = tmp_path+\"/imgs/\"+record[0]+\".jpg\"\n",
        "    shutil.move(fileName, img_path+ groupDir + \"/\" , copy_function = shutil.copy2)\n",
        "    \n",
        "# Clean tmp data\n",
        "try:\n",
        "    shutil.rmtree(tmp_path)\n",
        "    os.remove(wikiartsZip)\n",
        "except Exception as err:\n",
        "    print(err)\n"
      ]
    },
    {
      "cell_type": "markdown",
      "metadata": {
        "id": "pfpLcB-dUNDH"
      },
      "source": [
        "9. Create the csv file for meta data:"
      ]
    },
    {
      "cell_type": "code",
      "execution_count": null,
      "metadata": {
        "id": "4SIjhsNfifEk"
      },
      "outputs": [],
      "source": [
        "# Save to meta file\n",
        "metaDF = pd.DataFrame(fileList,columns = [\"hash\",\"Artist\"])\n",
        "metaDF = pd.concat([metaDF,WikiArtsDF[[\"hash\",\"Artist\"]]])\n",
        "metaDF.to_csv(\"meta.csv\")"
      ]
    },
    {
      "cell_type": "markdown",
      "metadata": {
        "id": "9HcwxKvHUV_Q"
      },
      "source": [
        "10. Import the generic pipeline and transformer if not imported yet, set the image transformer to the genericCNN"
      ]
    },
    {
      "cell_type": "code",
      "execution_count": null,
      "metadata": {
        "colab": {
          "base_uri": "https://localhost:8080/"
        },
        "id": "oFbIgI3hixOO",
        "outputId": "a2d52751-327b-4b46-ec20-ce38c4164578"
      },
      "outputs": [
        {
          "output_type": "stream",
          "name": "stderr",
          "text": [
            "/usr/local/lib/python3.7/dist-packages/torchvision/transforms/transforms.py:1421: UserWarning: The parameter 'resample' is deprecated since 0.12 and will be removed in 0.14. Please use 'interpolation' instead.\n",
            "  \"The parameter 'resample' is deprecated since 0.12 and will be removed in 0.14. \"\n",
            "/usr/local/lib/python3.7/dist-packages/torchvision/transforms/transforms.py:1436: UserWarning: The parameter 'fillcolor' is deprecated since 0.12 and will be removed in 0.14. Please use 'fill' instead.\n",
            "  \"The parameter 'fillcolor' is deprecated since 0.12 and will be removed in 0.14. \"\n"
          ]
        }
      ],
      "source": [
        "#Initialize the object\n",
        "myObj = genericCNN()\n",
        "\n",
        "# Set up the transformer\n",
        "myTransform = ImageTransformer((224,224))\n",
        "myTransform.initTransform()\n",
        "transformer = myTransform.getTransformer()\n",
        "\n",
        "myObj.setTransformer(transformer)\n",
        "# Decide if adding normalization layer at the end of transformation, by default, normalization will be added\n",
        "# myObj.UseNormalized(normalize = True)"
      ]
    },
    {
      "cell_type": "markdown",
      "metadata": {
        "id": "n3GlIBk4upW-"
      },
      "source": [
        "11. Set meta data and input path, split the dataset and load the data to Dataset/DatasetLoader"
      ]
    },
    {
      "cell_type": "code",
      "execution_count": null,
      "metadata": {
        "colab": {
          "base_uri": "https://localhost:8080/"
        },
        "id": "efiy4r6Yi2K5",
        "outputId": "455c2f5e-cae6-4aca-d0b8-2734567b6cac"
      },
      "outputs": [
        {
          "output_type": "stream",
          "name": "stdout",
          "text": [
            "53e872e09c40a912e36d53daf6920243 torch.Size([4, 224, 224])\n",
            "53e872e09c40a912e36d53daf6920243 torch.Size([4, 224, 224])\n",
            "53e872e09c40a912e36d53daf6920243 torch.Size([4, 224, 224])\n",
            "0641ceb25ff823cf52802ea8c07558b1 torch.Size([1, 224, 224])\n",
            "ee7c58e67dabd4b7459bddf9f669f707 torch.Size([1, 224, 224])\n",
            "84e717a6cf749d681ffbb2557758bd13 torch.Size([1, 224, 224])\n",
            "7dc6002a966d35a49f263376c2a56256 torch.Size([1, 224, 224])\n",
            "8c9f5633d217a54f78ed5f2146324b38 torch.Size([1, 224, 224])\n",
            "632fc73d4e2de07f28d85429ff390476 torch.Size([1, 224, 224])\n",
            "b96a4a83299a54b4be4ff78c0d92c170 torch.Size([1, 224, 224])\n",
            "a2bbef5813e42924f2168bef12a26478 torch.Size([4, 224, 224])\n",
            "9d694f7ee70d5f694dda849a0a132bcb torch.Size([4, 224, 224])\n",
            "d7999f4ec0a7efcc004c733e813ddb39 torch.Size([4, 224, 224])\n",
            "0be2cd049d2ecf361c6ffcb1c5054de5 torch.Size([4, 224, 224])\n",
            "e2ee5d0fd45f95074b7e5e8665ab22de torch.Size([4, 224, 224])\n",
            "bcbf898f298ba2a00e088c50e3e27134 torch.Size([1, 224, 224])\n",
            "e5f0411ee34ba439116a0d8d8cfe64c3 torch.Size([1, 224, 224])\n",
            "042faaee15402a071df98949a2fe4298 torch.Size([1, 224, 224])\n",
            "521cde1dc6bf903b92698cce5fc45cc9 torch.Size([1, 224, 224])\n",
            "19527a307f8328d218c0d592b0e62eb9 torch.Size([1, 224, 224])\n",
            "04e84f850d81a2e0a7440e13b46744e4 torch.Size([1, 224, 224])\n",
            "66855fd1af6fcc7eb4ed461d5c82a810 torch.Size([1, 224, 224])\n",
            "f5ef2960e0f5227289fb2e126ce0b4c5 torch.Size([1, 224, 224])\n",
            "a2e7131ada2d8c94340e87dde1fbee69 torch.Size([1, 224, 224])\n",
            "c9250c6bebf980301c38dc5735024fba torch.Size([1, 224, 224])\n",
            "db1d700c1a5c2bd9fdede96e65032757 torch.Size([1, 224, 224])\n",
            "b808f9e26122a39d1f22814ca8f21db6 torch.Size([1, 224, 224])\n"
          ]
        }
      ],
      "source": [
        "# Set up the meta data and path to image dataset\n",
        "myObj.setDataset(\"meta.csv\",path = \"imgs\")\n",
        "\n",
        "# Split the data by portion, fraction indicate the percentage of data used in the whole dataset. \n",
        "# Default: val_size = 0.2, test_size = 0.1 \n",
        "#myObj.splitData(val_size=0.2,test_size = 0.1,fraction = 1)\n",
        "myObj.splitData(val_size=0.1,test_size = 0.7,fraction = 1)\n",
        "\n",
        "# Will automatically get the statistic for training set, update the mean/std used for normalization. \n",
        "# loadData and checkDataset\n",
        "#myObj.loadData()\n",
        "myObj.loadData(reUseTrain=3)\n"
      ]
    },
    {
      "cell_type": "markdown",
      "metadata": {
        "id": "TVYeFs_Bu4WW"
      },
      "source": [
        "12. Display a batch:"
      ]
    },
    {
      "cell_type": "code",
      "execution_count": null,
      "metadata": {
        "colab": {
          "base_uri": "https://localhost:8080/",
          "height": 247
        },
        "id": "JZlU_0Wnjqkj",
        "outputId": "bebafc87-7aea-4402-ae72-d21df49f5f82"
      },
      "outputs": [
        {
          "output_type": "stream",
          "name": "stdout",
          "text": [
            "0 torch.Size([5, 3, 224, 224]) tensor([1, 4, 4, 1, 2])\n",
            "torch.Size([5, 3, 224, 224])\n"
          ]
        },
        {
          "output_type": "display_data",
          "data": {
            "text/plain": [
              "<Figure size 432x288 with 0 Axes>"
            ]
          },
          "metadata": {}
        },
        {
          "output_type": "display_data",
          "data": {
            "text/plain": [
              "<Figure size 960x960 with 5 Axes>"
            ],
            "image/png": "[encoded data removed]"
          },
          "metadata": {
            "needs_background": "light"
          }
        }
      ],
      "source": [
        "myObj.showDatasetBatch()"
      ]
    },
    {
      "cell_type": "markdown",
      "metadata": {
        "id": "LUxaI7XL70B6"
      },
      "source": [
        "13. Select model and edit the architecture:"
      ]
    },
    {
      "cell_type": "code",
      "execution_count": null,
      "metadata": {
        "id": "oM4og4enj6u5",
        "colab": {
          "base_uri": "https://localhost:8080/",
          "height": 86,
          "referenced_widgets": [
            "3132ff7a80ee4ef5a850cd47743e542f",
            "eddc7f3c4db6423abf9e552b88efbb3b",
            "55036335ba204236a71d9a2eaedc45cc",
            "7b4ed7b0ef3e47d8a62c4e10bf1939a5",
            "a507f947e07f4bcba31c2257c39a4e59",
            "5ce0a346545f4b6288ffc9057a5c831b",
            "af43c0c523734b9989884f76b390bbe0",
            "9e2311dc07f64cc692e5a6f765588476",
            "181a5b21d8094a48b48625879fcab9fd",
            "9bf1acf93f3e4acabfb91fd92b1eea5e",
            "bf750b962bfe48d4a9998fc4cb06335f"
          ]
        },
        "outputId": "39f33602-4e21-4d58-c477-8514fff7d1f6"
      },
      "outputs": [
        {
          "output_type": "stream",
          "name": "stderr",
          "text": [
            "Downloading: \"https://download.pytorch.org/models/mobilenet_v2-b0353104.pth\" to /root/.cache/torch/hub/checkpoints/mobilenet_v2-b0353104.pth\n"
          ]
        },
        {
          "output_type": "display_data",
          "data": {
            "text/plain": [
              "  0%|          | 0.00/13.6M [00:00<?, ?B/s]"
            ],
            "application/vnd.jupyter.widget-view+json": {
              "version_major": 2,
              "version_minor": 0,
              "model_id": "3132ff7a80ee4ef5a850cd47743e542f"
            }
          },
          "metadata": {}
        }
      ],
      "source": [
        "# Use the pre-trained model\n",
        "#model_ft.load_state_dict(torch.load('./weights/vgg16-397923af.pth'))\n",
        "#model_ft = models.googlenet(pretrained=True)\n",
        "#num_ftrs = model_ft.fc.in_features\n",
        "#model_ft.fc=nn.Linear(num_ftrs, 6)\n",
        "\n",
        "model_ft = models.mobilenet_v2(pretrained=True)\n",
        "num_ftrs = model_ft.classifier[1].in_features\n",
        "model_ft.classifier[1] = nn.Linear(num_ftrs, 6)\n",
        "\n",
        "model_ft = model_ft.to(myObj.device)\n",
        "\n",
        "# Specifiy the criterion:\n",
        "criterion = nn.CrossEntropyLoss()\n",
        "\n",
        "# Specify the optizimer\n",
        "optimizer_ft = optim.SGD(model_ft.parameters(), lr=0.001, momentum=0.9)\n",
        "\n",
        "# Specift the learning rate scheduler. Decay LR by a factor of 0.1 every 7 epochs\n",
        "exp_lr_scheduler = lr_scheduler.StepLR(optimizer_ft, step_size=7, gamma=0.1)"
      ]
    },
    {
      "cell_type": "markdown",
      "metadata": {
        "id": "sbIJ_frw-fvD"
      },
      "source": [
        "14. Set the model for the generic object:"
      ]
    },
    {
      "cell_type": "code",
      "execution_count": null,
      "metadata": {
        "id": "eWfVZrjXkgKd"
      },
      "outputs": [],
      "source": [
        "#myObj.setModel(model = model_ft,modeltag=\"googlenet\")\n",
        "myObj.setModel(model = model_ft,modeltag=\"mobilenet_v2\")"
      ]
    },
    {
      "cell_type": "markdown",
      "metadata": {
        "id": "I9KJFGZX-mJe"
      },
      "source": [
        "15: Train the model:"
      ]
    },
    {
      "cell_type": "code",
      "execution_count": null,
      "metadata": {
        "colab": {
          "base_uri": "https://localhost:8080/"
        },
        "id": "aAnlTRShkr16",
        "outputId": "2777fbb8-b730-4b8c-fa13-0c1df5240f1b"
      },
      "outputs": [
        {
          "output_type": "stream",
          "name": "stdout",
          "text": [
            "Epoch 0/13\n",
            "----------\n"
          ]
        },
        {
          "output_type": "stream",
          "name": "stderr",
          "text": [
            "Epoch 0 Phase train: 100%|██████████| 682/682 [02:31<00:00,  4.50batch/s]\n"
          ]
        },
        {
          "output_type": "stream",
          "name": "stdout",
          "text": [
            "train Loss: 1.2015 Acc: 0.5725\n"
          ]
        },
        {
          "output_type": "stream",
          "name": "stderr",
          "text": [
            "Epoch 0 Phase val: 100%|██████████| 113/113 [00:15<00:00,  7.11batch/s]\n"
          ]
        },
        {
          "output_type": "stream",
          "name": "stdout",
          "text": [
            "val Loss: 2.0103 Acc: 0.4690\n",
            "\n",
            "Epoch 1/13\n",
            "----------\n"
          ]
        },
        {
          "output_type": "stream",
          "name": "stderr",
          "text": [
            "Epoch 1 Phase train: 100%|██████████| 682/682 [02:30<00:00,  4.54batch/s]\n"
          ]
        },
        {
          "output_type": "stream",
          "name": "stdout",
          "text": [
            "train Loss: 0.9277 Acc: 0.6705\n"
          ]
        },
        {
          "output_type": "stream",
          "name": "stderr",
          "text": [
            "Epoch 1 Phase val: 100%|██████████| 113/113 [00:16<00:00,  6.85batch/s]\n"
          ]
        },
        {
          "output_type": "stream",
          "name": "stdout",
          "text": [
            "val Loss: 1.8963 Acc: 0.5416\n",
            "\n",
            "Epoch 2/13\n",
            "----------\n"
          ]
        },
        {
          "output_type": "stream",
          "name": "stderr",
          "text": [
            "Epoch 2 Phase train: 100%|██████████| 682/682 [02:26<00:00,  4.67batch/s]\n"
          ]
        },
        {
          "output_type": "stream",
          "name": "stdout",
          "text": [
            "train Loss: 0.7954 Acc: 0.7160\n"
          ]
        },
        {
          "output_type": "stream",
          "name": "stderr",
          "text": [
            "Epoch 2 Phase val: 100%|██████████| 113/113 [00:15<00:00,  7.13batch/s]\n"
          ]
        },
        {
          "output_type": "stream",
          "name": "stdout",
          "text": [
            "val Loss: 1.2781 Acc: 0.6850\n",
            "\n",
            "Epoch 3/13\n",
            "----------\n"
          ]
        },
        {
          "output_type": "stream",
          "name": "stderr",
          "text": [
            "Epoch 3 Phase train: 100%|██████████| 682/682 [02:30<00:00,  4.55batch/s]\n"
          ]
        },
        {
          "output_type": "stream",
          "name": "stdout",
          "text": [
            "train Loss: 0.7132 Acc: 0.7550\n"
          ]
        },
        {
          "output_type": "stream",
          "name": "stderr",
          "text": [
            "Epoch 3 Phase val: 100%|██████████| 113/113 [00:15<00:00,  7.11batch/s]\n"
          ]
        },
        {
          "output_type": "stream",
          "name": "stdout",
          "text": [
            "val Loss: 1.4431 Acc: 0.6496\n",
            "\n",
            "Epoch 4/13\n",
            "----------\n"
          ]
        },
        {
          "output_type": "stream",
          "name": "stderr",
          "text": [
            "Epoch 4 Phase train: 100%|██████████| 682/682 [02:32<00:00,  4.46batch/s]\n"
          ]
        },
        {
          "output_type": "stream",
          "name": "stdout",
          "text": [
            "train Loss: 0.6427 Acc: 0.7729\n"
          ]
        },
        {
          "output_type": "stream",
          "name": "stderr",
          "text": [
            "Epoch 4 Phase val: 100%|██████████| 113/113 [00:15<00:00,  7.09batch/s]\n"
          ]
        },
        {
          "output_type": "stream",
          "name": "stdout",
          "text": [
            "val Loss: 0.5808 Acc: 0.8195\n",
            "\n",
            "Epoch 5/13\n",
            "----------\n"
          ]
        },
        {
          "output_type": "stream",
          "name": "stderr",
          "text": [
            "Epoch 5 Phase train: 100%|██████████| 682/682 [02:26<00:00,  4.64batch/s]\n"
          ]
        },
        {
          "output_type": "stream",
          "name": "stdout",
          "text": [
            "train Loss: 0.6037 Acc: 0.7952\n"
          ]
        },
        {
          "output_type": "stream",
          "name": "stderr",
          "text": [
            "Epoch 5 Phase val: 100%|██████████| 113/113 [00:15<00:00,  7.20batch/s]\n"
          ]
        },
        {
          "output_type": "stream",
          "name": "stdout",
          "text": [
            "val Loss: 0.9170 Acc: 0.7009\n",
            "\n",
            "Epoch 6/13\n",
            "----------\n"
          ]
        },
        {
          "output_type": "stream",
          "name": "stderr",
          "text": [
            "Epoch 6 Phase train: 100%|██████████| 682/682 [02:31<00:00,  4.49batch/s]\n"
          ]
        },
        {
          "output_type": "stream",
          "name": "stdout",
          "text": [
            "train Loss: 0.5566 Acc: 0.8099\n"
          ]
        },
        {
          "output_type": "stream",
          "name": "stderr",
          "text": [
            "Epoch 6 Phase val: 100%|██████████| 113/113 [00:16<00:00,  7.05batch/s]\n"
          ]
        },
        {
          "output_type": "stream",
          "name": "stdout",
          "text": [
            "val Loss: 0.7584 Acc: 0.7752\n",
            "\n",
            "Epoch 7/13\n",
            "----------\n"
          ]
        },
        {
          "output_type": "stream",
          "name": "stderr",
          "text": [
            "Epoch 7 Phase train: 100%|██████████| 682/682 [02:26<00:00,  4.65batch/s]\n"
          ]
        },
        {
          "output_type": "stream",
          "name": "stdout",
          "text": [
            "train Loss: 0.3484 Acc: 0.8765\n"
          ]
        },
        {
          "output_type": "stream",
          "name": "stderr",
          "text": [
            "Epoch 7 Phase val: 100%|██████████| 113/113 [00:16<00:00,  7.05batch/s]\n"
          ]
        },
        {
          "output_type": "stream",
          "name": "stdout",
          "text": [
            "val Loss: 0.5909 Acc: 0.8000\n",
            "\n",
            "Epoch 8/13\n",
            "----------\n"
          ]
        },
        {
          "output_type": "stream",
          "name": "stderr",
          "text": [
            "Epoch 8 Phase train: 100%|██████████| 682/682 [02:28<00:00,  4.59batch/s]\n"
          ]
        },
        {
          "output_type": "stream",
          "name": "stdout",
          "text": [
            "train Loss: 0.2947 Acc: 0.8950\n"
          ]
        },
        {
          "output_type": "stream",
          "name": "stderr",
          "text": [
            "Epoch 8 Phase val: 100%|██████████| 113/113 [00:16<00:00,  6.93batch/s]\n"
          ]
        },
        {
          "output_type": "stream",
          "name": "stdout",
          "text": [
            "val Loss: 0.5164 Acc: 0.8407\n",
            "\n",
            "Epoch 9/13\n",
            "----------\n"
          ]
        },
        {
          "output_type": "stream",
          "name": "stderr",
          "text": [
            "Epoch 9 Phase train: 100%|██████████| 682/682 [02:26<00:00,  4.67batch/s]\n"
          ]
        },
        {
          "output_type": "stream",
          "name": "stdout",
          "text": [
            "train Loss: 0.2900 Acc: 0.9064\n"
          ]
        },
        {
          "output_type": "stream",
          "name": "stderr",
          "text": [
            "Epoch 9 Phase val: 100%|██████████| 113/113 [00:15<00:00,  7.07batch/s]\n"
          ]
        },
        {
          "output_type": "stream",
          "name": "stdout",
          "text": [
            "val Loss: 0.5302 Acc: 0.8301\n",
            "\n",
            "Epoch 10/13\n",
            "----------\n"
          ]
        },
        {
          "output_type": "stream",
          "name": "stderr",
          "text": [
            "Epoch 10 Phase train: 100%|██████████| 682/682 [02:27<00:00,  4.63batch/s]\n"
          ]
        },
        {
          "output_type": "stream",
          "name": "stdout",
          "text": [
            "train Loss: 0.2659 Acc: 0.9105\n"
          ]
        },
        {
          "output_type": "stream",
          "name": "stderr",
          "text": [
            "Epoch 10 Phase val: 100%|██████████| 113/113 [00:15<00:00,  7.08batch/s]\n"
          ]
        },
        {
          "output_type": "stream",
          "name": "stdout",
          "text": [
            "val Loss: 0.5479 Acc: 0.8265\n",
            "\n",
            "Epoch 11/13\n",
            "----------\n"
          ]
        },
        {
          "output_type": "stream",
          "name": "stderr",
          "text": [
            "Epoch 11 Phase train: 100%|██████████| 682/682 [02:30<00:00,  4.55batch/s]\n"
          ]
        },
        {
          "output_type": "stream",
          "name": "stdout",
          "text": [
            "train Loss: 0.2546 Acc: 0.9134\n"
          ]
        },
        {
          "output_type": "stream",
          "name": "stderr",
          "text": [
            "Epoch 11 Phase val: 100%|██████████| 113/113 [00:15<00:00,  7.10batch/s]\n"
          ]
        },
        {
          "output_type": "stream",
          "name": "stdout",
          "text": [
            "val Loss: 0.5623 Acc: 0.8283\n",
            "\n",
            "Epoch 12/13\n",
            "----------\n"
          ]
        },
        {
          "output_type": "stream",
          "name": "stderr",
          "text": [
            "Epoch 12 Phase train: 100%|██████████| 682/682 [02:31<00:00,  4.50batch/s]\n"
          ]
        },
        {
          "output_type": "stream",
          "name": "stdout",
          "text": [
            "train Loss: 0.2250 Acc: 0.9266\n"
          ]
        },
        {
          "output_type": "stream",
          "name": "stderr",
          "text": [
            "Epoch 12 Phase val: 100%|██████████| 113/113 [00:15<00:00,  7.15batch/s]\n"
          ]
        },
        {
          "output_type": "stream",
          "name": "stdout",
          "text": [
            "val Loss: 0.4862 Acc: 0.8655\n",
            "\n",
            "Epoch 13/13\n",
            "----------\n"
          ]
        },
        {
          "output_type": "stream",
          "name": "stderr",
          "text": [
            "Epoch 13 Phase train: 100%|██████████| 682/682 [02:32<00:00,  4.49batch/s]\n"
          ]
        },
        {
          "output_type": "stream",
          "name": "stdout",
          "text": [
            "train Loss: 0.2315 Acc: 0.9258\n"
          ]
        },
        {
          "output_type": "stream",
          "name": "stderr",
          "text": [
            "Epoch 13 Phase val: 100%|██████████| 113/113 [00:15<00:00,  7.13batch/s]"
          ]
        },
        {
          "output_type": "stream",
          "name": "stdout",
          "text": [
            "val Loss: 0.4784 Acc: 0.8619\n",
            "\n",
            "Training complete in 38m 36s\n",
            "Best val Acc: 0.865487\n"
          ]
        },
        {
          "output_type": "stream",
          "name": "stderr",
          "text": [
            "\n"
          ]
        },
        {
          "output_type": "execute_result",
          "data": {
            "text/plain": [
              "MobileNetV2(\n",
              "  (features): Sequential(\n",
              "    (0): ConvNormActivation(\n",
              "      (0): Conv2d(3, 32, kernel_size=(3, 3), stride=(2, 2), padding=(1, 1), bias=False)\n",
              "      (1): BatchNorm2d(32, eps=1e-05, momentum=0.1, affine=True, track_running_stats=True)\n",
              "      (2): ReLU6(inplace=True)\n",
              "    )\n",
              "    (1): InvertedResidual(\n",
              "      (conv): Sequential(\n",
              "        (0): ConvNormActivation(\n",
              "          (0): Conv2d(32, 32, kernel_size=(3, 3), stride=(1, 1), padding=(1, 1), groups=32, bias=False)\n",
              "          (1): BatchNorm2d(32, eps=1e-05, momentum=0.1, affine=True, track_running_stats=True)\n",
              "          (2): ReLU6(inplace=True)\n",
              "        )\n",
              "        (1): Conv2d(32, 16, kernel_size=(1, 1), stride=(1, 1), bias=False)\n",
              "        (2): BatchNorm2d(16, eps=1e-05, momentum=0.1, affine=True, track_running_stats=True)\n",
              "      )\n",
              "    )\n",
              "    (2): InvertedResidual(\n",
              "      (conv): Sequential(\n",
              "        (0): ConvNormActivation(\n",
              "          (0): Conv2d(16, 96, kernel_size=(1, 1), stride=(1, 1), bias=False)\n",
              "          (1): BatchNorm2d(96, eps=1e-05, momentum=0.1, affine=True, track_running_stats=True)\n",
              "          (2): ReLU6(inplace=True)\n",
              "        )\n",
              "        (1): ConvNormActivation(\n",
              "          (0): Conv2d(96, 96, kernel_size=(3, 3), stride=(2, 2), padding=(1, 1), groups=96, bias=False)\n",
              "          (1): BatchNorm2d(96, eps=1e-05, momentum=0.1, affine=True, track_running_stats=True)\n",
              "          (2): ReLU6(inplace=True)\n",
              "        )\n",
              "        (2): Conv2d(96, 24, kernel_size=(1, 1), stride=(1, 1), bias=False)\n",
              "        (3): BatchNorm2d(24, eps=1e-05, momentum=0.1, affine=True, track_running_stats=True)\n",
              "      )\n",
              "    )\n",
              "    (3): InvertedResidual(\n",
              "      (conv): Sequential(\n",
              "        (0): ConvNormActivation(\n",
              "          (0): Conv2d(24, 144, kernel_size=(1, 1), stride=(1, 1), bias=False)\n",
              "          (1): BatchNorm2d(144, eps=1e-05, momentum=0.1, affine=True, track_running_stats=True)\n",
              "          (2): ReLU6(inplace=True)\n",
              "        )\n",
              "        (1): ConvNormActivation(\n",
              "          (0): Conv2d(144, 144, kernel_size=(3, 3), stride=(1, 1), padding=(1, 1), groups=144, bias=False)\n",
              "          (1): BatchNorm2d(144, eps=1e-05, momentum=0.1, affine=True, track_running_stats=True)\n",
              "          (2): ReLU6(inplace=True)\n",
              "        )\n",
              "        (2): Conv2d(144, 24, kernel_size=(1, 1), stride=(1, 1), bias=False)\n",
              "        (3): BatchNorm2d(24, eps=1e-05, momentum=0.1, affine=True, track_running_stats=True)\n",
              "      )\n",
              "    )\n",
              "    (4): InvertedResidual(\n",
              "      (conv): Sequential(\n",
              "        (0): ConvNormActivation(\n",
              "          (0): Conv2d(24, 144, kernel_size=(1, 1), stride=(1, 1), bias=False)\n",
              "          (1): BatchNorm2d(144, eps=1e-05, momentum=0.1, affine=True, track_running_stats=True)\n",
              "          (2): ReLU6(inplace=True)\n",
              "        )\n",
              "        (1): ConvNormActivation(\n",
              "          (0): Conv2d(144, 144, kernel_size=(3, 3), stride=(2, 2), padding=(1, 1), groups=144, bias=False)\n",
              "          (1): BatchNorm2d(144, eps=1e-05, momentum=0.1, affine=True, track_running_stats=True)\n",
              "          (2): ReLU6(inplace=True)\n",
              "        )\n",
              "        (2): Conv2d(144, 32, kernel_size=(1, 1), stride=(1, 1), bias=False)\n",
              "        (3): BatchNorm2d(32, eps=1e-05, momentum=0.1, affine=True, track_running_stats=True)\n",
              "      )\n",
              "    )\n",
              "    (5): InvertedResidual(\n",
              "      (conv): Sequential(\n",
              "        (0): ConvNormActivation(\n",
              "          (0): Conv2d(32, 192, kernel_size=(1, 1), stride=(1, 1), bias=False)\n",
              "          (1): BatchNorm2d(192, eps=1e-05, momentum=0.1, affine=True, track_running_stats=True)\n",
              "          (2): ReLU6(inplace=True)\n",
              "        )\n",
              "        (1): ConvNormActivation(\n",
              "          (0): Conv2d(192, 192, kernel_size=(3, 3), stride=(1, 1), padding=(1, 1), groups=192, bias=False)\n",
              "          (1): BatchNorm2d(192, eps=1e-05, momentum=0.1, affine=True, track_running_stats=True)\n",
              "          (2): ReLU6(inplace=True)\n",
              "        )\n",
              "        (2): Conv2d(192, 32, kernel_size=(1, 1), stride=(1, 1), bias=False)\n",
              "        (3): BatchNorm2d(32, eps=1e-05, momentum=0.1, affine=True, track_running_stats=True)\n",
              "      )\n",
              "    )\n",
              "    (6): InvertedResidual(\n",
              "      (conv): Sequential(\n",
              "        (0): ConvNormActivation(\n",
              "          (0): Conv2d(32, 192, kernel_size=(1, 1), stride=(1, 1), bias=False)\n",
              "          (1): BatchNorm2d(192, eps=1e-05, momentum=0.1, affine=True, track_running_stats=True)\n",
              "          (2): ReLU6(inplace=True)\n",
              "        )\n",
              "        (1): ConvNormActivation(\n",
              "          (0): Conv2d(192, 192, kernel_size=(3, 3), stride=(1, 1), padding=(1, 1), groups=192, bias=False)\n",
              "          (1): BatchNorm2d(192, eps=1e-05, momentum=0.1, affine=True, track_running_stats=True)\n",
              "          (2): ReLU6(inplace=True)\n",
              "        )\n",
              "        (2): Conv2d(192, 32, kernel_size=(1, 1), stride=(1, 1), bias=False)\n",
              "        (3): BatchNorm2d(32, eps=1e-05, momentum=0.1, affine=True, track_running_stats=True)\n",
              "      )\n",
              "    )\n",
              "    (7): InvertedResidual(\n",
              "      (conv): Sequential(\n",
              "        (0): ConvNormActivation(\n",
              "          (0): Conv2d(32, 192, kernel_size=(1, 1), stride=(1, 1), bias=False)\n",
              "          (1): BatchNorm2d(192, eps=1e-05, momentum=0.1, affine=True, track_running_stats=True)\n",
              "          (2): ReLU6(inplace=True)\n",
              "        )\n",
              "        (1): ConvNormActivation(\n",
              "          (0): Conv2d(192, 192, kernel_size=(3, 3), stride=(2, 2), padding=(1, 1), groups=192, bias=False)\n",
              "          (1): BatchNorm2d(192, eps=1e-05, momentum=0.1, affine=True, track_running_stats=True)\n",
              "          (2): ReLU6(inplace=True)\n",
              "        )\n",
              "        (2): Conv2d(192, 64, kernel_size=(1, 1), stride=(1, 1), bias=False)\n",
              "        (3): BatchNorm2d(64, eps=1e-05, momentum=0.1, affine=True, track_running_stats=True)\n",
              "      )\n",
              "    )\n",
              "    (8): InvertedResidual(\n",
              "      (conv): Sequential(\n",
              "        (0): ConvNormActivation(\n",
              "          (0): Conv2d(64, 384, kernel_size=(1, 1), stride=(1, 1), bias=False)\n",
              "          (1): BatchNorm2d(384, eps=1e-05, momentum=0.1, affine=True, track_running_stats=True)\n",
              "          (2): ReLU6(inplace=True)\n",
              "        )\n",
              "        (1): ConvNormActivation(\n",
              "          (0): Conv2d(384, 384, kernel_size=(3, 3), stride=(1, 1), padding=(1, 1), groups=384, bias=False)\n",
              "          (1): BatchNorm2d(384, eps=1e-05, momentum=0.1, affine=True, track_running_stats=True)\n",
              "          (2): ReLU6(inplace=True)\n",
              "        )\n",
              "        (2): Conv2d(384, 64, kernel_size=(1, 1), stride=(1, 1), bias=False)\n",
              "        (3): BatchNorm2d(64, eps=1e-05, momentum=0.1, affine=True, track_running_stats=True)\n",
              "      )\n",
              "    )\n",
              "    (9): InvertedResidual(\n",
              "      (conv): Sequential(\n",
              "        (0): ConvNormActivation(\n",
              "          (0): Conv2d(64, 384, kernel_size=(1, 1), stride=(1, 1), bias=False)\n",
              "          (1): BatchNorm2d(384, eps=1e-05, momentum=0.1, affine=True, track_running_stats=True)\n",
              "          (2): ReLU6(inplace=True)\n",
              "        )\n",
              "        (1): ConvNormActivation(\n",
              "          (0): Conv2d(384, 384, kernel_size=(3, 3), stride=(1, 1), padding=(1, 1), groups=384, bias=False)\n",
              "          (1): BatchNorm2d(384, eps=1e-05, momentum=0.1, affine=True, track_running_stats=True)\n",
              "          (2): ReLU6(inplace=True)\n",
              "        )\n",
              "        (2): Conv2d(384, 64, kernel_size=(1, 1), stride=(1, 1), bias=False)\n",
              "        (3): BatchNorm2d(64, eps=1e-05, momentum=0.1, affine=True, track_running_stats=True)\n",
              "      )\n",
              "    )\n",
              "    (10): InvertedResidual(\n",
              "      (conv): Sequential(\n",
              "        (0): ConvNormActivation(\n",
              "          (0): Conv2d(64, 384, kernel_size=(1, 1), stride=(1, 1), bias=False)\n",
              "          (1): BatchNorm2d(384, eps=1e-05, momentum=0.1, affine=True, track_running_stats=True)\n",
              "          (2): ReLU6(inplace=True)\n",
              "        )\n",
              "        (1): ConvNormActivation(\n",
              "          (0): Conv2d(384, 384, kernel_size=(3, 3), stride=(1, 1), padding=(1, 1), groups=384, bias=False)\n",
              "          (1): BatchNorm2d(384, eps=1e-05, momentum=0.1, affine=True, track_running_stats=True)\n",
              "          (2): ReLU6(inplace=True)\n",
              "        )\n",
              "        (2): Conv2d(384, 64, kernel_size=(1, 1), stride=(1, 1), bias=False)\n",
              "        (3): BatchNorm2d(64, eps=1e-05, momentum=0.1, affine=True, track_running_stats=True)\n",
              "      )\n",
              "    )\n",
              "    (11): InvertedResidual(\n",
              "      (conv): Sequential(\n",
              "        (0): ConvNormActivation(\n",
              "          (0): Conv2d(64, 384, kernel_size=(1, 1), stride=(1, 1), bias=False)\n",
              "          (1): BatchNorm2d(384, eps=1e-05, momentum=0.1, affine=True, track_running_stats=True)\n",
              "          (2): ReLU6(inplace=True)\n",
              "        )\n",
              "        (1): ConvNormActivation(\n",
              "          (0): Conv2d(384, 384, kernel_size=(3, 3), stride=(1, 1), padding=(1, 1), groups=384, bias=False)\n",
              "          (1): BatchNorm2d(384, eps=1e-05, momentum=0.1, affine=True, track_running_stats=True)\n",
              "          (2): ReLU6(inplace=True)\n",
              "        )\n",
              "        (2): Conv2d(384, 96, kernel_size=(1, 1), stride=(1, 1), bias=False)\n",
              "        (3): BatchNorm2d(96, eps=1e-05, momentum=0.1, affine=True, track_running_stats=True)\n",
              "      )\n",
              "    )\n",
              "    (12): InvertedResidual(\n",
              "      (conv): Sequential(\n",
              "        (0): ConvNormActivation(\n",
              "          (0): Conv2d(96, 576, kernel_size=(1, 1), stride=(1, 1), bias=False)\n",
              "          (1): BatchNorm2d(576, eps=1e-05, momentum=0.1, affine=True, track_running_stats=True)\n",
              "          (2): ReLU6(inplace=True)\n",
              "        )\n",
              "        (1): ConvNormActivation(\n",
              "          (0): Conv2d(576, 576, kernel_size=(3, 3), stride=(1, 1), padding=(1, 1), groups=576, bias=False)\n",
              "          (1): BatchNorm2d(576, eps=1e-05, momentum=0.1, affine=True, track_running_stats=True)\n",
              "          (2): ReLU6(inplace=True)\n",
              "        )\n",
              "        (2): Conv2d(576, 96, kernel_size=(1, 1), stride=(1, 1), bias=False)\n",
              "        (3): BatchNorm2d(96, eps=1e-05, momentum=0.1, affine=True, track_running_stats=True)\n",
              "      )\n",
              "    )\n",
              "    (13): InvertedResidual(\n",
              "      (conv): Sequential(\n",
              "        (0): ConvNormActivation(\n",
              "          (0): Conv2d(96, 576, kernel_size=(1, 1), stride=(1, 1), bias=False)\n",
              "          (1): BatchNorm2d(576, eps=1e-05, momentum=0.1, affine=True, track_running_stats=True)\n",
              "          (2): ReLU6(inplace=True)\n",
              "        )\n",
              "        (1): ConvNormActivation(\n",
              "          (0): Conv2d(576, 576, kernel_size=(3, 3), stride=(1, 1), padding=(1, 1), groups=576, bias=False)\n",
              "          (1): BatchNorm2d(576, eps=1e-05, momentum=0.1, affine=True, track_running_stats=True)\n",
              "          (2): ReLU6(inplace=True)\n",
              "        )\n",
              "        (2): Conv2d(576, 96, kernel_size=(1, 1), stride=(1, 1), bias=False)\n",
              "        (3): BatchNorm2d(96, eps=1e-05, momentum=0.1, affine=True, track_running_stats=True)\n",
              "      )\n",
              "    )\n",
              "    (14): InvertedResidual(\n",
              "      (conv): Sequential(\n",
              "        (0): ConvNormActivation(\n",
              "          (0): Conv2d(96, 576, kernel_size=(1, 1), stride=(1, 1), bias=False)\n",
              "          (1): BatchNorm2d(576, eps=1e-05, momentum=0.1, affine=True, track_running_stats=True)\n",
              "          (2): ReLU6(inplace=True)\n",
              "        )\n",
              "        (1): ConvNormActivation(\n",
              "          (0): Conv2d(576, 576, kernel_size=(3, 3), stride=(2, 2), padding=(1, 1), groups=576, bias=False)\n",
              "          (1): BatchNorm2d(576, eps=1e-05, momentum=0.1, affine=True, track_running_stats=True)\n",
              "          (2): ReLU6(inplace=True)\n",
              "        )\n",
              "        (2): Conv2d(576, 160, kernel_size=(1, 1), stride=(1, 1), bias=False)\n",
              "        (3): BatchNorm2d(160, eps=1e-05, momentum=0.1, affine=True, track_running_stats=True)\n",
              "      )\n",
              "    )\n",
              "    (15): InvertedResidual(\n",
              "      (conv): Sequential(\n",
              "        (0): ConvNormActivation(\n",
              "          (0): Conv2d(160, 960, kernel_size=(1, 1), stride=(1, 1), bias=False)\n",
              "          (1): BatchNorm2d(960, eps=1e-05, momentum=0.1, affine=True, track_running_stats=True)\n",
              "          (2): ReLU6(inplace=True)\n",
              "        )\n",
              "        (1): ConvNormActivation(\n",
              "          (0): Conv2d(960, 960, kernel_size=(3, 3), stride=(1, 1), padding=(1, 1), groups=960, bias=False)\n",
              "          (1): BatchNorm2d(960, eps=1e-05, momentum=0.1, affine=True, track_running_stats=True)\n",
              "          (2): ReLU6(inplace=True)\n",
              "        )\n",
              "        (2): Conv2d(960, 160, kernel_size=(1, 1), stride=(1, 1), bias=False)\n",
              "        (3): BatchNorm2d(160, eps=1e-05, momentum=0.1, affine=True, track_running_stats=True)\n",
              "      )\n",
              "    )\n",
              "    (16): InvertedResidual(\n",
              "      (conv): Sequential(\n",
              "        (0): ConvNormActivation(\n",
              "          (0): Conv2d(160, 960, kernel_size=(1, 1), stride=(1, 1), bias=False)\n",
              "          (1): BatchNorm2d(960, eps=1e-05, momentum=0.1, affine=True, track_running_stats=True)\n",
              "          (2): ReLU6(inplace=True)\n",
              "        )\n",
              "        (1): ConvNormActivation(\n",
              "          (0): Conv2d(960, 960, kernel_size=(3, 3), stride=(1, 1), padding=(1, 1), groups=960, bias=False)\n",
              "          (1): BatchNorm2d(960, eps=1e-05, momentum=0.1, affine=True, track_running_stats=True)\n",
              "          (2): ReLU6(inplace=True)\n",
              "        )\n",
              "        (2): Conv2d(960, 160, kernel_size=(1, 1), stride=(1, 1), bias=False)\n",
              "        (3): BatchNorm2d(160, eps=1e-05, momentum=0.1, affine=True, track_running_stats=True)\n",
              "      )\n",
              "    )\n",
              "    (17): InvertedResidual(\n",
              "      (conv): Sequential(\n",
              "        (0): ConvNormActivation(\n",
              "          (0): Conv2d(160, 960, kernel_size=(1, 1), stride=(1, 1), bias=False)\n",
              "          (1): BatchNorm2d(960, eps=1e-05, momentum=0.1, affine=True, track_running_stats=True)\n",
              "          (2): ReLU6(inplace=True)\n",
              "        )\n",
              "        (1): ConvNormActivation(\n",
              "          (0): Conv2d(960, 960, kernel_size=(3, 3), stride=(1, 1), padding=(1, 1), groups=960, bias=False)\n",
              "          (1): BatchNorm2d(960, eps=1e-05, momentum=0.1, affine=True, track_running_stats=True)\n",
              "          (2): ReLU6(inplace=True)\n",
              "        )\n",
              "        (2): Conv2d(960, 320, kernel_size=(1, 1), stride=(1, 1), bias=False)\n",
              "        (3): BatchNorm2d(320, eps=1e-05, momentum=0.1, affine=True, track_running_stats=True)\n",
              "      )\n",
              "    )\n",
              "    (18): ConvNormActivation(\n",
              "      (0): Conv2d(320, 1280, kernel_size=(1, 1), stride=(1, 1), bias=False)\n",
              "      (1): BatchNorm2d(1280, eps=1e-05, momentum=0.1, affine=True, track_running_stats=True)\n",
              "      (2): ReLU6(inplace=True)\n",
              "    )\n",
              "  )\n",
              "  (classifier): Sequential(\n",
              "    (0): Dropout(p=0.2, inplace=False)\n",
              "    (1): Linear(in_features=1280, out_features=6, bias=True)\n",
              "  )\n",
              ")"
            ]
          },
          "metadata": {},
          "execution_count": 16
        }
      ],
      "source": [
        "myObj.train_model(criterion, optimizer_ft, exp_lr_scheduler, num_epochs=14)"
      ]
    },
    {
      "cell_type": "markdown",
      "metadata": {
        "id": "vXikESZ3XzHb"
      },
      "source": [
        "16. Evaluate the model:"
      ]
    },
    {
      "cell_type": "markdown",
      "metadata": {
        "id": "iOnv7ZmP-sTe"
      },
      "source": [
        "17. Save the weights as pth file:"
      ]
    },
    {
      "cell_type": "code",
      "execution_count": null,
      "metadata": {
        "colab": {
          "base_uri": "https://localhost:8080/",
          "height": 428
        },
        "id": "sXo03Y6m6upY",
        "outputId": "bc7d817f-0f4c-4a56-dc2d-f1cce21aca5a"
      },
      "outputs": [
        {
          "output_type": "display_data",
          "data": {
            "text/plain": [
              "<Figure size 864x504 with 2 Axes>"
            ],
            "image/png": "[encoded data removed]"
          },
          "metadata": {
            "needs_background": "light"
          }
        }
      ],
      "source": [
        "myObj.evaluate()"
      ]
    },
    {
      "cell_type": "code",
      "execution_count": null,
      "metadata": {
        "id": "4lsDvSD1kwp9"
      },
      "outputs": [],
      "source": [
        "torch.save(myObj.Model.state_dict(), 'model_weights.pth')"
      ]
    },
    {
      "cell_type": "markdown",
      "metadata": {
        "id": "XIEEDXeI7vzQ"
      },
      "source": [
        "18. Download the weight file from colab:"
      ]
    },
    {
      "cell_type": "code",
      "execution_count": null,
      "metadata": {
        "id": "7nTzVCRVlIjk",
        "colab": {
          "base_uri": "https://localhost:8080/",
          "height": 17
        },
        "outputId": "e9842c47-05a3-44bc-ea79-2490a0d174af"
      },
      "outputs": [
        {
          "output_type": "display_data",
          "data": {
            "text/plain": [
              "<IPython.core.display.Javascript object>"
            ],
            "application/javascript": [
              "\n",
              "    async function download(id, filename, size) {\n",
              "      if (!google.colab.kernel.accessAllowed) {\n",
              "        return;\n",
              "      }\n",
              "      const div = document.createElement('div');\n",
              "      const label = document.createElement('label');\n",
              "      label.textContent = `Downloading \"${filename}\": `;\n",
              "      div.appendChild(label);\n",
              "      const progress = document.createElement('progress');\n",
              "      progress.max = size;\n",
              "      div.appendChild(progress);\n",
              "      document.body.appendChild(div);\n",
              "\n",
              "      const buffers = [];\n",
              "      let downloaded = 0;\n",
              "\n",
              "      const channel = await google.colab.kernel.comms.open(id);\n",
              "      // Send a message to notify the kernel that we're ready.\n",
              "      channel.send({})\n",
              "\n",
              "      for await (const message of channel.messages) {\n",
              "        // Send a message to notify the kernel that we're ready.\n",
              "        channel.send({})\n",
              "        if (message.buffers) {\n",
              "          for (const buffer of message.buffers) {\n",
              "            buffers.push(buffer);\n",
              "            downloaded += buffer.byteLength;\n",
              "            progress.value = downloaded;\n",
              "          }\n",
              "        }\n",
              "      }\n",
              "      const blob = new Blob(buffers, {type: 'application/binary'});\n",
              "      const a = document.createElement('a');\n",
              "      a.href = window.URL.createObjectURL(blob);\n",
              "      a.download = filename;\n",
              "      div.appendChild(a);\n",
              "      a.click();\n",
              "      div.remove();\n",
              "    }\n",
              "  "
            ]
          },
          "metadata": {}
        },
        {
          "output_type": "display_data",
          "data": {
            "text/plain": [
              "<IPython.core.display.Javascript object>"
            ],
            "application/javascript": [
              "download(\"download_90733033-8c0c-42f1-b556-052ff4abf85d\", \"model_weights.pth\", 9169741)"
            ]
          },
          "metadata": {}
        }
      ],
      "source": [
        "from google.colab import files\n",
        "files.download(\"model_weights.pth\")"
      ]
    },
    {
      "cell_type": "code",
      "execution_count": null,
      "metadata": {
        "id": "t7cxQO8BYafP"
      },
      "outputs": [],
      "source": [
        ""
      ]
    }
  ],
  "metadata": {
    "colab": {
      "collapsed_sections": [],
      "name": "TemplateOnColab_xy.ipynb",
      "provenance": []
    },
    "kernelspec": {
      "display_name": "Python 3 (ipykernel)",
      "language": "python",
      "name": "python3"
    },
    "language_info": {
      "codemirror_mode": {
        "name": "ipython",
        "version": 3
      },
      "file_extension": ".py",
      "mimetype": "text/x-python",
      "name": "python",
      "nbconvert_exporter": "python",
      "pygments_lexer": "ipython3",
      "version": "3.10.4"
    },
    "widgets": {
      "application/vnd.jupyter.widget-state+json": {
        "3132ff7a80ee4ef5a850cd47743e542f": {
          "model_module": "@jupyter-widgets/controls",
          "model_name": "HBoxModel",
          "model_module_version": "1.5.0",
          "state": {
            "_dom_classes": [],
            "_model_module": "@jupyter-widgets/controls",
            "_model_module_version": "1.5.0",
            "_model_name": "HBoxModel",
            "_view_count": null,
            "_view_module": "@jupyter-widgets/controls",
            "_view_module_version": "1.5.0",
            "_view_name": "HBoxView",
            "box_style": "",
            "children": [
              "IPY_MODEL_eddc7f3c4db6423abf9e552b88efbb3b",
              "IPY_MODEL_55036335ba204236a71d9a2eaedc45cc",
              "IPY_MODEL_7b4ed7b0ef3e47d8a62c4e10bf1939a5"
            ],
            "layout": "IPY_MODEL_a507f947e07f4bcba31c2257c39a4e59"
          }
        },
        "eddc7f3c4db6423abf9e552b88efbb3b": {
          "model_module": "@jupyter-widgets/controls",
          "model_name": "HTMLModel",
          "model_module_version": "1.5.0",
          "state": {
            "_dom_classes": [],
            "_model_module": "@jupyter-widgets/controls",
            "_model_module_version": "1.5.0",
            "_model_name": "HTMLModel",
            "_view_count": null,
            "_view_module": "@jupyter-widgets/controls",
            "_view_module_version": "1.5.0",
            "_view_name": "HTMLView",
            "description": "",
            "description_tooltip": null,
            "layout": "IPY_MODEL_5ce0a346545f4b6288ffc9057a5c831b",
            "placeholder": "​",
            "style": "IPY_MODEL_af43c0c523734b9989884f76b390bbe0",
            "value": "100%"
          }
        },
        "55036335ba204236a71d9a2eaedc45cc": {
          "model_module": "@jupyter-widgets/controls",
          "model_name": "FloatProgressModel",
          "model_module_version": "1.5.0",
          "state": {
            "_dom_classes": [],
            "_model_module": "@jupyter-widgets/controls",
            "_model_module_version": "1.5.0",
            "_model_name": "FloatProgressModel",
            "_view_count": null,
            "_view_module": "@jupyter-widgets/controls",
            "_view_module_version": "1.5.0",
            "_view_name": "ProgressView",
            "bar_style": "success",
            "description": "",
            "description_tooltip": null,
            "layout": "IPY_MODEL_9e2311dc07f64cc692e5a6f765588476",
            "max": 14212972,
            "min": 0,
            "orientation": "horizontal",
            "style": "IPY_MODEL_181a5b21d8094a48b48625879fcab9fd",
            "value": 14212972
          }
        },
        "7b4ed7b0ef3e47d8a62c4e10bf1939a5": {
          "model_module": "@jupyter-widgets/controls",
          "model_name": "HTMLModel",
          "model_module_version": "1.5.0",
          "state": {
            "_dom_classes": [],
            "_model_module": "@jupyter-widgets/controls",
            "_model_module_version": "1.5.0",
            "_model_name": "HTMLModel",
            "_view_count": null,
            "_view_module": "@jupyter-widgets/controls",
            "_view_module_version": "1.5.0",
            "_view_name": "HTMLView",
            "description": "",
            "description_tooltip": null,
            "layout": "IPY_MODEL_9bf1acf93f3e4acabfb91fd92b1eea5e",
            "placeholder": "​",
            "style": "IPY_MODEL_bf750b962bfe48d4a9998fc4cb06335f",
            "value": " 13.6M/13.6M [00:00&lt;00:00, 37.1MB/s]"
          }
        },
        "a507f947e07f4bcba31c2257c39a4e59": {
          "model_module": "@jupyter-widgets/base",
          "model_name": "LayoutModel",
          "model_module_version": "1.2.0",
          "state": {
            "_model_module": "@jupyter-widgets/base",
            "_model_module_version": "1.2.0",
            "_model_name": "LayoutModel",
            "_view_count": null,
            "_view_module": "@jupyter-widgets/base",
            "_view_module_version": "1.2.0",
            "_view_name": "LayoutView",
            "align_content": null,
            "align_items": null,
            "align_self": null,
            "border": null,
            "bottom": null,
            "display": null,
            "flex": null,
            "flex_flow": null,
            "grid_area": null,
            "grid_auto_columns": null,
            "grid_auto_flow": null,
            "grid_auto_rows": null,
            "grid_column": null,
            "grid_gap": null,
            "grid_row": null,
            "grid_template_areas": null,
            "grid_template_columns": null,
            "grid_template_rows": null,
            "height": null,
            "justify_content": null,
            "justify_items": null,
            "left": null,
            "margin": null,
            "max_height": null,
            "max_width": null,
            "min_height": null,
            "min_width": null,
            "object_fit": null,
            "object_position": null,
            "order": null,
            "overflow": null,
            "overflow_x": null,
            "overflow_y": null,
            "padding": null,
            "right": null,
            "top": null,
            "visibility": null,
            "width": null
          }
        },
        "5ce0a346545f4b6288ffc9057a5c831b": {
          "model_module": "@jupyter-widgets/base",
          "model_name": "LayoutModel",
          "model_module_version": "1.2.0",
          "state": {
            "_model_module": "@jupyter-widgets/base",
            "_model_module_version": "1.2.0",
            "_model_name": "LayoutModel",
            "_view_count": null,
            "_view_module": "@jupyter-widgets/base",
            "_view_module_version": "1.2.0",
            "_view_name": "LayoutView",
            "align_content": null,
            "align_items": null,
            "align_self": null,
            "border": null,
            "bottom": null,
            "display": null,
            "flex": null,
            "flex_flow": null,
            "grid_area": null,
            "grid_auto_columns": null,
            "grid_auto_flow": null,
            "grid_auto_rows": null,
            "grid_column": null,
            "grid_gap": null,
            "grid_row": null,
            "grid_template_areas": null,
            "grid_template_columns": null,
            "grid_template_rows": null,
            "height": null,
            "justify_content": null,
            "justify_items": null,
            "left": null,
            "margin": null,
            "max_height": null,
            "max_width": null,
            "min_height": null,
            "min_width": null,
            "object_fit": null,
            "object_position": null,
            "order": null,
            "overflow": null,
            "overflow_x": null,
            "overflow_y": null,
            "padding": null,
            "right": null,
            "top": null,
            "visibility": null,
            "width": null
          }
        },
        "af43c0c523734b9989884f76b390bbe0": {
          "model_module": "@jupyter-widgets/controls",
          "model_name": "DescriptionStyleModel",
          "model_module_version": "1.5.0",
          "state": {
            "_model_module": "@jupyter-widgets/controls",
            "_model_module_version": "1.5.0",
            "_model_name": "DescriptionStyleModel",
            "_view_count": null,
            "_view_module": "@jupyter-widgets/base",
            "_view_module_version": "1.2.0",
            "_view_name": "StyleView",
            "description_width": ""
          }
        },
        "9e2311dc07f64cc692e5a6f765588476": {
          "model_module": "@jupyter-widgets/base",
          "model_name": "LayoutModel",
          "model_module_version": "1.2.0",
          "state": {
            "_model_module": "@jupyter-widgets/base",
            "_model_module_version": "1.2.0",
            "_model_name": "LayoutModel",
            "_view_count": null,
            "_view_module": "@jupyter-widgets/base",
            "_view_module_version": "1.2.0",
            "_view_name": "LayoutView",
            "align_content": null,
            "align_items": null,
            "align_self": null,
            "border": null,
            "bottom": null,
            "display": null,
            "flex": null,
            "flex_flow": null,
            "grid_area": null,
            "grid_auto_columns": null,
            "grid_auto_flow": null,
            "grid_auto_rows": null,
            "grid_column": null,
            "grid_gap": null,
            "grid_row": null,
            "grid_template_areas": null,
            "grid_template_columns": null,
            "grid_template_rows": null,
            "height": null,
            "justify_content": null,
            "justify_items": null,
            "left": null,
            "margin": null,
            "max_height": null,
            "max_width": null,
            "min_height": null,
            "min_width": null,
            "object_fit": null,
            "object_position": null,
            "order": null,
            "overflow": null,
            "overflow_x": null,
            "overflow_y": null,
            "padding": null,
            "right": null,
            "top": null,
            "visibility": null,
            "width": null
          }
        },
        "181a5b21d8094a48b48625879fcab9fd": {
          "model_module": "@jupyter-widgets/controls",
          "model_name": "ProgressStyleModel",
          "model_module_version": "1.5.0",
          "state": {
            "_model_module": "@jupyter-widgets/controls",
            "_model_module_version": "1.5.0",
            "_model_name": "ProgressStyleModel",
            "_view_count": null,
            "_view_module": "@jupyter-widgets/base",
            "_view_module_version": "1.2.0",
            "_view_name": "StyleView",
            "bar_color": null,
            "description_width": ""
          }
        },
        "9bf1acf93f3e4acabfb91fd92b1eea5e": {
          "model_module": "@jupyter-widgets/base",
          "model_name": "LayoutModel",
          "model_module_version": "1.2.0",
          "state": {
            "_model_module": "@jupyter-widgets/base",
            "_model_module_version": "1.2.0",
            "_model_name": "LayoutModel",
            "_view_count": null,
            "_view_module": "@jupyter-widgets/base",
            "_view_module_version": "1.2.0",
            "_view_name": "LayoutView",
            "align_content": null,
            "align_items": null,
            "align_self": null,
            "border": null,
            "bottom": null,
            "display": null,
            "flex": null,
            "flex_flow": null,
            "grid_area": null,
            "grid_auto_columns": null,
            "grid_auto_flow": null,
            "grid_auto_rows": null,
            "grid_column": null,
            "grid_gap": null,
            "grid_row": null,
            "grid_template_areas": null,
            "grid_template_columns": null,
            "grid_template_rows": null,
            "height": null,
            "justify_content": null,
            "justify_items": null,
            "left": null,
            "margin": null,
            "max_height": null,
            "max_width": null,
            "min_height": null,
            "min_width": null,
            "object_fit": null,
            "object_position": null,
            "order": null,
            "overflow": null,
            "overflow_x": null,
            "overflow_y": null,
            "padding": null,
            "right": null,
            "top": null,
            "visibility": null,
            "width": null
          }
        },
        "bf750b962bfe48d4a9998fc4cb06335f": {
          "model_module": "@jupyter-widgets/controls",
          "model_name": "DescriptionStyleModel",
          "model_module_version": "1.5.0",
          "state": {
            "_model_module": "@jupyter-widgets/controls",
            "_model_module_version": "1.5.0",
            "_model_name": "DescriptionStyleModel",
            "_view_count": null,
            "_view_module": "@jupyter-widgets/base",
            "_view_module_version": "1.2.0",
            "_view_name": "StyleView",
            "description_width": ""
          }
        }
      }
    }
  },
  "nbformat": 4,
  "nbformat_minor": 0
}