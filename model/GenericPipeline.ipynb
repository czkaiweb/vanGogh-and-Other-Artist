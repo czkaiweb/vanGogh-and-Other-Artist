{
 "cells": [
  {
   "cell_type": "code",
   "execution_count": null,
   "id": "a6b18311",
   "metadata": {},
   "outputs": [],
   "source": [
    "import sys\n",
    "sys.path.append('/Users/czkaiweb/Research/ErdosBootCamp/May2022/vanGogh-and-Other-Artist')\n",
    "from genericCNN import *\n",
    "from preprocessing.ImageTranform import *\n",
    "from torchsummary import summary\n",
    "\n",
    "import os"
   ]
  },
  {
   "cell_type": "code",
   "execution_count": null,
   "id": "72e18fc0",
   "metadata": {},
   "outputs": [],
   "source": [
    "myObj = genericCNN()\n",
    "\n",
    "# Set up the transformer\n",
    "myTransform = ImageTransformer((224,224))\n",
    "myTransform.initTransform()\n",
    "transformer = myTransform.getTransformer()\n",
    "\n",
    "myObj.setTransformer(transformer)\n",
    "# Decide if adding normalization layer at the end of transformation, by default, normalization will be added\n",
    "# myObj.UseNormalized(normalize = True)"
   ]
  },
  {
   "cell_type": "code",
   "execution_count": null,
   "id": "351c46d8",
   "metadata": {},
   "outputs": [],
   "source": [
    "# Set up the meta data and path to image dataset\n",
    "myObj.setDataset(\"../data/meta.csv\",path = \"../data/imgs\")\n",
    "\n",
    "# Split the data by portion, fraction indicate the percentage of data used in the whole dataset. \n",
    "# Default: val_size = 0.2, test_size = 0.1 \n",
    "myObj.splitData(val_size=0.02,test_size = 0.9,fraction = 0.1)\n",
    "\n",
    "# Will automatically get the statistic for training set, update the mean/std used for normalization. \n",
    "# loadData and checkDataset\n",
    "myObj.loadData(reUseTrain = 3)"
   ]
  },
  {
   "cell_type": "code",
   "execution_count": null,
   "id": "72bf5b00",
   "metadata": {},
   "outputs": [],
   "source": [
    "myObj.showDatasetBatch()"
   ]
  },
  {
   "cell_type": "code",
   "execution_count": null,
   "id": "8b6b7899",
   "metadata": {},
   "outputs": [],
   "source": [
    "from torchvision import datasets, models, transforms\n",
    "import torch.nn as nn\n",
    "import torch.optim as optim\n",
    "from torch.optim import lr_scheduler\n",
    "\n",
    "# Try to load model with pretrained first!\n",
    "# model_ft = models.vgg16(pretrained= True)\n",
    "\n",
    "#If the pretrained argument doesn't work, download the weight file to local ./weights and load from local file\n",
    "model_ft = models.vgg16()\n",
    "model_ft.load_state_dict(torch.load('./weights/vgg16-397923af.pth'))\n",
    "\n",
    "num_ftrs = model_ft.classifier[6].in_features\n",
    "# Here the size of each output sample is set to 2.\n",
    "# Alternatively, it can be generalized to nn.Linear(num_ftrs, len(class_names)).\n",
    "model_ft.classifier[6] = nn.Linear(num_ftrs, 6)\n",
    "\n",
    "model_ft = model_ft.to(myObj.device)\n",
    "\n",
    "criterion = nn.CrossEntropyLoss()\n",
    "\n",
    "# Observe that all parameters are being optimized\n",
    "optimizer_ft = optim.SGD(model_ft.parameters(), lr=0.001, momentum=0.9)\n",
    "\n",
    "# Decay LR by a factor of 0.1 every 7 epochs\n",
    "exp_lr_scheduler = lr_scheduler.StepLR(optimizer_ft, step_size=7, gamma=0.1)"
   ]
  },
  {
   "cell_type": "code",
   "execution_count": null,
   "id": "cee9eae6",
   "metadata": {},
   "outputs": [],
   "source": [
    "myObj.setModel(model = model_ft,modeltag=\"vgg16mod\")"
   ]
  },
  {
   "cell_type": "code",
   "execution_count": null,
   "id": "91164441",
   "metadata": {},
   "outputs": [],
   "source": [
    "myObj.train_model(criterion, optimizer_ft, exp_lr_scheduler, num_epochs=2)"
   ]
  },
  {
   "cell_type": "code",
   "execution_count": null,
   "id": "df9ea80e",
   "metadata": {},
   "outputs": [],
   "source": [
    "myObj.evaluate(saveAs=\"output.png\")"
   ]
  },
  {
   "cell_type": "code",
   "execution_count": null,
   "id": "36ad540c",
   "metadata": {},
   "outputs": [],
   "source": [
    "weight_path = \"./postTrain/\"\n",
    "\n",
    "if not os.path.isdir(weight_path):\n",
    "    os.mkdir(weight_path)\n",
    "\n",
    "torch.save(myObj.Model.state_dict(), weight_path + 'VGG_postTrain_weights_May25.pth')"
   ]
  }
 ],
 "metadata": {
  "kernelspec": {
   "display_name": "Python 3.7.10 64-bit ('Erdos': conda)",
   "language": "python",
   "name": "python371064biterdosconda7530abd590984c45ba6372cad090cba4"
  },
  "language_info": {
   "codemirror_mode": {
    "name": "ipython",
    "version": 3
   },
   "file_extension": ".py",
   "mimetype": "text/x-python",
   "name": "python",
   "nbconvert_exporter": "python",
   "pygments_lexer": "ipython3",
   "version": "3.7.10"
  }
 },
 "nbformat": 4,
 "nbformat_minor": 5
}
